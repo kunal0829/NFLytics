{
 "cells": [
  {
   "cell_type": "code",
   "execution_count": 9,
   "metadata": {},
   "outputs": [],
   "source": [
    "import pandas as pd"
   ]
  },
  {
   "cell_type": "code",
   "execution_count": 10,
   "metadata": {},
   "outputs": [],
   "source": [
    "def fixYear(inputdf):\n",
    "    ids = {}\n",
    "    for index, row in inputdf.iterrows():\n",
    "        if (not pd.isnull(row[\"OffenseTeam\"])) and (not pd.isnull(row[\"DefenseTeam\"])):\n",
    "            ids[row[\"GameId\"]] = row[\"OffenseTeam\"] + ':' + row[\"DefenseTeam\"]\n",
    "\n",
    "    for index, row in inputdf.iterrows():\n",
    "        if pd.isnull(row[\"OffenseTeam\"]):\n",
    "            possible = ids[row[\"GameId\"]].split(':')\n",
    "            if (row[\"DefenseTeam\"] == possible[0]):\n",
    "                inputdf.at[index,\"OffenseTeam\"] = possible[1]\n",
    "            else:\n",
    "                inputdf.at[index,\"OffenseTeam\"] = possible[0]\n",
    "    \n",
    "        if pd.isnull(row[\"DefenseTeam\"]):\n",
    "            possible = ids[row[\"GameId\"]].split(':')\n",
    "            if (row[\"OffenseTeam\"] == possible[0]):\n",
    "                inputdf.at[index,\"DefenseTeam\"] = possible[1]\n",
    "            else:\n",
    "                inputdf.at[index,\"DefenseTeam\"] = possible[0]\n",
    "    return inputdf"
   ]
  },
  {
   "cell_type": "code",
   "execution_count": 11,
   "metadata": {},
   "outputs": [],
   "source": [
    "Plays2013 = pd.read_csv(\"nflSavantDb/pbp-2014.csv\")\n",
    "Plays2014 = pd.read_csv(\"nflSavantDb/pbp-2014.csv\")\n",
    "Plays2015 = pd.read_csv(\"nflSavantDb/pbp-2015.csv\")\n",
    "Plays2016 = pd.read_csv(\"nflSavantDb/pbp-2016.csv\")\n",
    "\n",
    "Plays2013 = fixYear(Plays2013)\n",
    "Plays2014 = fixYear(Plays2014)\n",
    "Plays2015 = fixYear(Plays2015)\n",
    "Plays2016 = fixYear(Plays2016)\n",
    "\n",
    "Plays2013 = Plays2013.filter(['GameId','GameDate','Quarter','OffenseTeam','DefenseTeam', 'Down', 'ToGo', 'YardLine', 'Yards', 'Description', 'SeasonYear'])\n",
    "Plays2014 = Plays2014.filter(['GameId','GameDate','Quarter','OffenseTeam','DefenseTeam', 'Down', 'ToGo', 'YardLine', 'Yards', 'Description', 'SeasonYear'])\n",
    "Plays2015 = Plays2015.filter(['GameId','GameDate','Quarter','OffenseTeam','DefenseTeam', 'Down', 'ToGo', 'YardLine', 'Yards', 'Description', 'SeasonYear'])\n",
    "Plays2016 = Plays2016.filter(['GameId','GameDate','Quarter','OffenseTeam','DefenseTeam', 'Down', 'ToGo', 'YardLine', 'Yards', 'Description', 'SeasonYear'])"
   ]
  },
  {
   "cell_type": "code",
   "execution_count": 12,
   "metadata": {},
   "outputs": [],
   "source": [
    "Plays = pd.concat([Plays2013,Plays2014,Plays2015,Plays2016],axis = 0)"
   ]
  },
  {
   "cell_type": "code",
   "execution_count": 13,
   "metadata": {},
   "outputs": [],
   "source": [
    "Plays.reset_index(drop = True, inplace = True)"
   ]
  },
  {
   "cell_type": "code",
   "execution_count": 15,
   "metadata": {},
   "outputs": [],
   "source": [
    "Plays.to_csv(\"Database/Plays.csv\")"
   ]
  },
  {
   "cell_type": "code",
   "execution_count": null,
   "metadata": {},
   "outputs": [],
   "source": []
  }
 ],
 "metadata": {
  "kernelspec": {
   "display_name": "Python 3",
   "language": "python",
   "name": "python3"
  },
  "language_info": {
   "codemirror_mode": {
    "name": "ipython",
    "version": 3
   },
   "file_extension": ".py",
   "mimetype": "text/x-python",
   "name": "python",
   "nbconvert_exporter": "python",
   "pygments_lexer": "ipython3",
   "version": "3.8.3"
  }
 },
 "nbformat": 4,
 "nbformat_minor": 4
}
