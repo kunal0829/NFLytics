{
 "cells": [
  {
   "cell_type": "code",
   "execution_count": 34,
   "metadata": {},
   "outputs": [],
   "source": [
    "import pandas as pd\n",
    "import numpy as np"
   ]
  },
  {
   "cell_type": "code",
   "execution_count": 35,
   "metadata": {},
   "outputs": [],
   "source": [
    "teamsDict = {\n",
    "      'Houston Texans' : \"HOU\",\n",
    "      'Oakland Raiders' : \"LV\",\n",
    "      'Las Vegas Raiders' : \"LV\",\n",
    "      'Miami Dolphins' : \"MIA\",\n",
    "      'Atlanta Falcons': \"ATL\",\n",
    "      'Washington Redskins' : \"WAS\",\n",
    "      'Washington Football Team' : \"WAS\",\n",
    "      'San Francisco 49ers' : \"SF\",\n",
    "      'New Orleans Saints' : \"NO\",\n",
    "      'San Diego Chargers' : \"SD\",\n",
    "      'Los Angeles Chargers' : \"SD\",\n",
    "      'Dallas Cowboys' : \"DAL\",\n",
    "      'Detroit Lions' : \"DET\",\n",
    "      'Tennessee Titans' : \"TEN\",\n",
    "      'Seattle Seahawks' : \"SEA\",\n",
    "      'Kansas City Chiefs' : \"KC\",\n",
    "      'Cleveland Browns' : \"CLE\",\n",
    "      'Philadelphia Eagles' : \"PHI\",\n",
    "      'Minnesota Vikings' : \"MIN\",\n",
    "      'St. Louis Rams' : \"LA\",\n",
    "      'Denver Broncos' : \"DEN\",\n",
    "      'Buffalo Bills' : \"BUF\",\n",
    "      'Baltimore Ravens' : \"BAL\",\n",
    "      'New England Patriots' : \"NE\",\n",
    "      'Tampa Bay Buccaneers' : \"TB\",\n",
    "      'Chicago Bears' : \"CHI\",\n",
    "      'Arizona Cardinals' : \"ARI\",\n",
    "      'New York Jets' : \"NYJ\",\n",
    "      'Green Bay Packers' : \"GB\",\n",
    "      'Pittsburgh Steelers' : \"PIT\",\n",
    "      'New York Giants' : \"NYG\",\n",
    "      'Carolina Panthers' : \"CAR\",\n",
    "      'Cincinnati Bengals' : \"CIN\",\n",
    "      'Los Angeles Rams' : \"LA\",\n",
    "      'Jacksonville Jaguars' : \"JAX\",\n",
    "      'Indianapolis Colts' : \"IND\"\n",
    "    }\n",
    "def returnID(teams,wanted):\n",
    "    return teams[wanted]"
   ]
  },
  {
   "cell_type": "code",
   "execution_count": 36,
   "metadata": {},
   "outputs": [],
   "source": [
    "def returndf(location, year):\n",
    "    df = pd.read_csv(location)\n",
    "    df = df.filter(['Team ID', 'Wins', 'Losses', 'Tied', 'OSRS', 'DSRS'])\n",
    "    df = df.replace({\"Team ID\": teamsDict})\n",
    "    df[\"Year\"] = year\n",
    "    df.reset_index(drop=True, inplace=True)\n",
    "    return df"
   ]
  },
  {
   "cell_type": "code",
   "execution_count": 37,
   "metadata": {},
   "outputs": [],
   "source": [
    "out_2013 = returndf(\"../ProFootballReference/SeasonResults2013.csv\", 2013)\n",
    "out_2014 = returndf(\"../ProFootballReference/SeasonResults2014.csv\", 2014)\n",
    "out_2015 = returndf(\"../ProFootballReference/SeasonResults2015.csv\", 2015)\n",
    "out_2016 = returndf(\"../ProFootballReference/SeasonResults2016.csv\", 2016)"
   ]
  },
  {
   "cell_type": "code",
   "execution_count": 38,
   "metadata": {},
   "outputs": [],
   "source": [
    "SeasonOutcomes = pd.concat([out_2013, out_2014, out_2015, out_2016])\n",
    "SeasonOutcomes.reset_index(drop=True, inplace=True)"
   ]
  },
  {
   "cell_type": "code",
   "execution_count": 39,
   "metadata": {},
   "outputs": [],
   "source": [
    "SeasonOutcomes.to_csv ('../Database/SeasonOutcomes.csv', index = False, header=True)"
   ]
  },
  {
   "cell_type": "code",
   "execution_count": null,
   "metadata": {},
   "outputs": [],
   "source": []
  }
 ],
 "metadata": {
  "kernelspec": {
   "display_name": "Python 3",
   "language": "python",
   "name": "python3"
  },
  "language_info": {
   "codemirror_mode": {
    "name": "ipython",
    "version": 3
   },
   "file_extension": ".py",
   "mimetype": "text/x-python",
   "name": "python",
   "nbconvert_exporter": "python",
   "pygments_lexer": "ipython3",
   "version": "3.8.1"
  }
 },
 "nbformat": 4,
 "nbformat_minor": 4
}
