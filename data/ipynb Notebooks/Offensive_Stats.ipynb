{
 "cells": [
  {
   "cell_type": "code",
   "execution_count": 30,
   "metadata": {},
   "outputs": [],
   "source": [
    "import pandas as pd\n",
    "import numpy as np"
   ]
  },
  {
   "cell_type": "code",
   "execution_count": 31,
   "metadata": {},
   "outputs": [],
   "source": [
    "teamsDict = {\n",
    "  'Houston Texans' : \"HOU\",\n",
    "  'Oakland Raiders' : \"LV\",\n",
    "  'Las Vegas Raiders' : \"LV\",\n",
    "  'Miami Dolphins' : \"MIA\",\n",
    "  'Atlanta Falcons': \"ATL\",\n",
    "  'Washington Redskins' : \"WAS\",\n",
    "  'Washington Football Team' : \"WAS\",\n",
    "  'San Francisco 49ers' : \"SF\",\n",
    "  'New Orleans Saints' : \"NO\",\n",
    "  'San Diego Chargers' : \"SD\",\n",
    "  'Los Angeles Chargers' : \"SD\",\n",
    "  'Dallas Cowboys' : \"DAL\",\n",
    "  'Detroit Lions' : \"DET\",\n",
    "  'Tennessee Titans' : \"TEN\",\n",
    "  'Seattle Seahawks' : \"SEA\",\n",
    "  'Kansas City Chiefs' : \"KC\",\n",
    "  'Cleveland Browns' : \"CLE\",\n",
    "  'Philadelphia Eagles' : \"PHI\",\n",
    "  'Minnesota Vikings' : \"MIN\",\n",
    "  'St. Louis Rams' : \"LA\",\n",
    "  'Denver Broncos' : \"DEN\",\n",
    "  'Buffalo Bills' : \"BUF\",\n",
    "  'Baltimore Ravens' : \"BAL\",\n",
    "  'New England Patriots' : \"NE\",\n",
    "  'Tampa Bay Buccaneers' : \"TB\",\n",
    "  'Chicago Bears' : \"CHI\",\n",
    "  'Arizona Cardinals' : \"ARI\",\n",
    "  'New York Jets' : \"NYJ\",\n",
    "  'Green Bay Packers' : \"GB\",\n",
    "  'Pittsburgh Steelers' : \"PIT\",\n",
    "  'New York Giants' : \"NYG\",\n",
    "  'Carolina Panthers' : \"CAR\",\n",
    "  'Cincinnati Bengals' : \"CIN\",\n",
    "  'Los Angeles Rams' : \"LA\",\n",
    "  'Jacksonville Jaguars' : \"JAX\",\n",
    "  'Indianapolis Colts' : \"IND\"\n",
    "}"
   ]
  },
  {
   "cell_type": "code",
   "execution_count": 32,
   "metadata": {},
   "outputs": [],
   "source": [
    "Players = pd.read_csv(\"../Database/Players.csv\")\n",
    "\n",
    "PassingStats = pd.read_csv(\"../newdata/Career_Stats_Passing.csv\")\n",
    "RushingStats = pd.read_csv(\"../newdata/Career_Stats_Rushing.csv\")\n",
    "ReceivingStats = pd.read_csv(\"../newdata/Career_Stats_Receiving.csv\")\n",
    "DefensiveStats = pd.read_csv(\"../newdata/Career_Stats_Defensive.csv\")\n",
    "\n",
    "PassingStats = PassingStats[(PassingStats['Year'] >= 2013)  &  (PassingStats['Year'] <= 2016)]\n",
    "RushingStats = RushingStats[(RushingStats['Year'] >= 2013)  &  (RushingStats['Year'] <= 2016)]\n",
    "ReceivingStats = ReceivingStats[(ReceivingStats['Year'] >= 2013)  &  (ReceivingStats['Year'] <= 2016)]\n",
    "DefensiveStats = DefensiveStats[(DefensiveStats['Year'] >= 2013)  &  (DefensiveStats['Year'] <= 2016)]\n",
    "\n",
    "PassingStats = PassingStats.filter(['Player Id', 'Year', 'TD Passes', 'Passing Yards', 'Passes Attempted', 'Ints', 'Team'])\n",
    "RushingStats = RushingStats.filter(['Player Id', 'Year', 'Rushing TDs', 'Rushing Yards', 'Rushing Attempts', 'Fumbles', 'Team'])\n",
    "ReceivingStats = ReceivingStats.filter(['Player Id', 'Year', 'Receiving TDs', 'Receiving Yards', 'Receptions', 'Fumbles', 'Team'])\n",
    "DefensiveStats = DefensiveStats.filter(['Player Id', 'Year', 'Sacks', 'Ints', 'Total Tackles', 'Team'])\n",
    "\n",
    "PassingStats = PassingStats.replace({\"Team\": teamsDict})\n",
    "RushingStats = RushingStats.replace({\"Team\": teamsDict})\n",
    "ReceivingStats = ReceivingStats.replace({\"Team\": teamsDict})\n",
    "DefensiveStats = DefensiveStats.replace({\"Team\": teamsDict})\n",
    "\n",
    "PassingStats['Player Id'] = PassingStats['Player Id'].str.extract('(\\d+)', expand=False).astype(int)\n",
    "RushingStats['Player Id'] = RushingStats['Player Id'].str.extract('(\\d+)', expand=False).astype(int)\n",
    "ReceivingStats['Player Id'] = ReceivingStats['Player Id'].str.extract('(\\d+)', expand=False).astype(int)\n",
    "DefensiveStats['Player Id'] = DefensiveStats['Player Id'].str.extract('(\\d+)', expand=False).astype(int)"
   ]
  },
  {
   "cell_type": "code",
   "execution_count": 33,
   "metadata": {},
   "outputs": [],
   "source": [
    "def dropBadRows(df, rows):\n",
    "    for row in rows:\n",
    "        df = df[df[row] != '--']\n",
    "    return df"
   ]
  },
  {
   "cell_type": "code",
   "execution_count": 34,
   "metadata": {},
   "outputs": [],
   "source": [
    "PassingStats = dropBadRows(PassingStats, ['TD Passes', 'Passing Yards', 'Passes Attempted', 'Ints'])\n",
    "RushingStats = dropBadRows(RushingStats, ['Rushing TDs', 'Rushing Yards', 'Rushing Attempts', 'Fumbles'])\n",
    "ReceivingStats = dropBadRows(ReceivingStats, ['Receiving TDs', 'Receiving Yards', 'Receptions', 'Fumbles'])\n",
    "DefensiveStats = dropBadRows(DefensiveStats, ['Sacks', 'Ints', 'Total Tackles'])"
   ]
  },
  {
   "cell_type": "code",
   "execution_count": 35,
   "metadata": {},
   "outputs": [],
   "source": [
    "PassingStats.reset_index(drop=True, inplace=True)\n",
    "RushingStats.reset_index(drop=True, inplace=True)\n",
    "ReceivingStats.reset_index(drop=True, inplace=True)\n",
    "DefensiveStats.reset_index(drop=True, inplace=True)"
   ]
  },
  {
   "cell_type": "code",
   "execution_count": 36,
   "metadata": {},
   "outputs": [],
   "source": [
    "def makeToInt(df, attrs):\n",
    "    for attr in attrs:\n",
    "        for index, row in df.iterrows():\n",
    "            df.at[index,attr] = int(row[attr].replace(',',''))\n",
    "            \n",
    "def makeToFloat(df, attrs):\n",
    "    for attr in attrs:\n",
    "        for index, row in df.iterrows():\n",
    "            df.at[index,attr] = float(row[attr].replace(',',''))"
   ]
  },
  {
   "cell_type": "code",
   "execution_count": 37,
   "metadata": {},
   "outputs": [],
   "source": [
    "makeToInt(PassingStats, ['TD Passes', 'Passing Yards', 'Passes Attempted', 'Ints'])\n",
    "makeToInt(RushingStats, ['Rushing TDs', 'Rushing Yards', 'Rushing Attempts', 'Fumbles'])\n",
    "makeToInt(ReceivingStats, ['Receiving TDs', 'Receiving Yards', 'Receptions', 'Fumbles'])\n",
    "makeToInt(DefensiveStats, ['Ints', 'Total Tackles'])\n",
    "makeToFloat(DefensiveStats, ['Sacks'])"
   ]
  },
  {
   "cell_type": "code",
   "execution_count": 38,
   "metadata": {},
   "outputs": [],
   "source": [
    "PassingStats.to_csv(\"../Database/PassingStats.csv\")\n",
    "RushingStats.to_csv(\"../Database/RushingStats.csv\")\n",
    "ReceivingStats.to_csv(\"../Database/ReceivingStats.csv\")\n",
    "DefensiveStats.to_csv(\"../Database/DefensiveStats.csv\")"
   ]
  },
  {
   "cell_type": "code",
   "execution_count": null,
   "metadata": {},
   "outputs": [],
   "source": []
  }
 ],
 "metadata": {
  "kernelspec": {
   "display_name": "Python 3",
   "language": "python",
   "name": "python3"
  },
  "language_info": {
   "codemirror_mode": {
    "name": "ipython",
    "version": 3
   },
   "file_extension": ".py",
   "mimetype": "text/x-python",
   "name": "python",
   "nbconvert_exporter": "python",
   "pygments_lexer": "ipython3",
   "version": "3.8.1"
  }
 },
 "nbformat": 4,
 "nbformat_minor": 4
}
